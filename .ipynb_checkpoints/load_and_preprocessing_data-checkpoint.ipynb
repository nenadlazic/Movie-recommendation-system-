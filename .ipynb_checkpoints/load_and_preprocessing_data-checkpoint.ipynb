{
 "cells": [
  {
   "cell_type": "code",
   "execution_count": 5,
   "metadata": {
    "collapsed": false
   },
   "outputs": [
    {
     "ename": "SyntaxError",
     "evalue": "invalid syntax (<ipython-input-5-9891f2ca5ecd>, line 22)",
     "output_type": "error",
     "traceback": [
      "\u001b[0;36m  File \u001b[0;32m\"<ipython-input-5-9891f2ca5ecd>\"\u001b[0;36m, line \u001b[0;32m22\u001b[0m\n\u001b[0;31m    data_use['movie_title'] = featured_data[i.replace(\"\\xa0\",\"\") for i in list(data_use['movie_title'])]\u001b[0m\n\u001b[0m                                                                   ^\u001b[0m\n\u001b[0;31mSyntaxError\u001b[0m\u001b[0;31m:\u001b[0m invalid syntax\n"
     ]
    }
   ],
   "source": [
    "import numpy as np\n",
    "import csv\n",
    "import pandas as pd\n",
    "import matplotlib.pyplot as plt\n",
    "\n",
    "\n",
    "def readCsv(file_name):\n",
    "    with open('data_set/movies_formated.csv') as csvfile:\n",
    "        reader = csv.DictReader(csvfile)    \n",
    "        i=0\n",
    "        for row in reader:\n",
    "            print(row['director_name'],\"\\t\\t\", row['movie_title'])\n",
    "            i+=1\n",
    "            if(i>10):\n",
    "                break\n",
    "\n",
    "print(\"\\n\")\n",
    "raw_data = pd.read_csv(\"data_set/movies_formated.csv\")\n",
    "\n",
    "#prolazimo kroz sve atribute u csv fajlu i uzimamo samo one sa navedenim nazivima jer su nam korisni\n",
    "data_use = raw_data.ix[:,['genres','plot_keywords','movie_title','actor_1_name','actor_2_name','actor_3_name','director_name','imdb_score']]\n",
    "data_use['movie_title'] = [i.replace(\"\\xa0\",\"\") for i in list(data_use['movie_title'])]\n",
    "\n",
    "#j=0\n",
    "#for i in list(data_use['movie_title']):\n",
    "#    print(i)\n",
    "#    j+=1\n",
    "#    if(j>10):\n",
    "#        break\n",
    "#print(data_use)\n",
    "\n",
    "print(data_use.shape)\n",
    "clean_data = data_use.dropna(axis = 0)\n",
    "print(clean_data.shape)\n",
    "clean_data = clean_data.drop_duplicates(['movie_title'])\n",
    "clean_data = clean_data.reset_index(drop=True)\n",
    "print(clean_data.shape)\n",
    "\n",
    "\n",
    "people_list = []\n",
    "for i in range(clean_data.shape[0]):\n",
    "    name1 = clean_data.ix[i,'actor_1_name'].replace(\" \",\"_\")\n",
    "    name2 = clean_data.ix[i,'actor_2_name'].replace(\" \",\"_\")\n",
    "    name3 = clean_data.ix[i,'actor_3_name'].replace(\" \",\"_\")\n",
    "    name4 = clean_data.ix[i,'director_name'].replace(\" \",\"_\")\n",
    "    people_list.append(\"|\".join([name1,name2,name3,name4]))\n",
    "clean_data['people'] = people_list\n",
    "#print(clean_data)\n",
    "\n",
    "from pyspark.ml.feature import CountVectorizer\n",
    "\n",
    "from sklearn.feature_extraction.text import CountVectorizer\n",
    "\n",
    "def token(text):\n",
    "    return(text.split(\"|\"))\n",
    "\n",
    "\n",
    "cv_kw=CountVectorizer(max_features=100,tokenizer=token )\n",
    "keywords = cv_kw.fit_transform(clean_data[\"plot_keywords\"])\n",
    "#print(type(keywords))\n",
    "#print(keywords)\n",
    "\n",
    "#print(keywords.todense().shape)\n",
    "#print(clean_data[\"plot_keywords\"])\n",
    "keywords_list = [\"kw_\" + i for i in cv_kw.get_feature_names()]\n",
    "\n",
    "#for k in keywords_list:\n",
    "#    print(k)\n",
    "    \n",
    "cv_ge=CountVectorizer(tokenizer=token )\n",
    "genres = cv_ge.fit_transform(clean_data[\"genres\"])\n",
    "genres_list = [\"genres_\"+ i for i in cv_ge.get_feature_names()]\n",
    "\n",
    "cv_pp=CountVectorizer(max_features=100,tokenizer=token )\n",
    "people = cv_pp.fit_transform(clean_data[\"people\"])\n",
    "people_list = [\"pp_\"+ i for i in cv_pp.get_feature_names()]\n",
    "\n",
    "cluster_data = np.hstack([keywords.todense(),genres.todense(),people.todense()*2])\n",
    "criterion_list = keywords_list+genres_list+people_list\n",
    "\n",
    "\n",
    "\n",
    "from sklearn.cluster import KMeans\n",
    "\n",
    "mod = KMeans(n_clusters=50)\n",
    "category = mod.fit_predict(cluster_data)\n",
    "clean_data['cat']=category\n",
    "\n",
    "\n",
    "file_name=\"izlaz.csv\"\n",
    "clean_data.to_csv(file_name, sep=',')\n",
    "\n",
    "\n",
    "\n",
    "#print(type(clean_data))\n",
    "#print(clean_data['movie_title'])\n",
    "#print(category)\n",
    "#category_dataframe = pd.DataFrame({\"category\":category},index = clean_data['movie_title'])\n",
    "#print(category_dataframe)\n",
    "\n",
    "#print(category_dataframe.set_index('movie_title').join(clean_data.set_index('movie_title')))\n",
    "#clean_data.ix[list(category_dataframe['category']==1),['genres','movie_title','actor_1_name','people']]"
   ]
  },
  {
   "cell_type": "code",
   "execution_count": null,
   "metadata": {
    "collapsed": true
   },
   "outputs": [],
   "source": []
  },
  {
   "cell_type": "code",
   "execution_count": null,
   "metadata": {
    "collapsed": true
   },
   "outputs": [],
   "source": []
  }
 ],
 "metadata": {
  "kernelspec": {
   "display_name": "Python 3",
   "language": "python",
   "name": "python3"
  },
  "language_info": {
   "codemirror_mode": {
    "name": "ipython",
    "version": 3
   },
   "file_extension": ".py",
   "mimetype": "text/x-python",
   "name": "python",
   "nbconvert_exporter": "python",
   "pygments_lexer": "ipython3",
   "version": "3.6.0"
  }
 },
 "nbformat": 4,
 "nbformat_minor": 2
}

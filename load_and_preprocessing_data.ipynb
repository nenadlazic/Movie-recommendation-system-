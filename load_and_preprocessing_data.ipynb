{
 "cells": [
  {
   "cell_type": "code",
   "execution_count": 17,
   "metadata": {
    "collapsed": false
   },
   "outputs": [
    {
     "name": "stdout",
     "output_type": "stream",
     "text": [
      "James Cameron \t\t Avatar \n",
      "Gore Verbinski \t\t Pirates of the Caribbean: At World's End \n",
      "Sam Mendes \t\t Spectre \n",
      "Christopher Nolan \t\t The Dark Knight Rises \n",
      "Doug Walker \t\t Star Wars: Episode VII - The Force Awakens             \n",
      "Andrew Stanton \t\t John Carter \n",
      "Sam Raimi \t\t Spider-Man 3 \n",
      "Nathan Greno \t\t Tangled \n",
      "Joss Whedon \t\t Avengers: Age of Ultron \n",
      "David Yates \t\t Harry Potter and the Half-Blood Prince \n",
      "Zack Snyder \t\t Batman v Superman: Dawn of Justice \n"
     ]
    }
   ],
   "source": [
    "import numpy as np\n",
    "import csv\n",
    "\n",
    "\n",
    "with open('data_set/movies_formated.csv') as csvfile:\n",
    "    reader = csv.DictReader(csvfile)    \n",
    "    i=0\n",
    "    for row in reader:\n",
    "        print(row['director_name'],\"\\t\\t\", row['movie_title'])\n",
    "        i+=1\n",
    "        if(i>10):\n",
    "            break"
   ]
  },
  {
   "cell_type": "code",
   "execution_count": null,
   "metadata": {
    "collapsed": true
   },
   "outputs": [],
   "source": []
  }
 ],
 "metadata": {
  "kernelspec": {
   "display_name": "Python 3",
   "language": "python",
   "name": "python3"
  },
  "language_info": {
   "codemirror_mode": {
    "name": "ipython",
    "version": 3
   },
   "file_extension": ".py",
   "mimetype": "text/x-python",
   "name": "python",
   "nbconvert_exporter": "python",
   "pygments_lexer": "ipython3",
   "version": "3.6.0"
  }
 },
 "nbformat": 4,
 "nbformat_minor": 2
}
